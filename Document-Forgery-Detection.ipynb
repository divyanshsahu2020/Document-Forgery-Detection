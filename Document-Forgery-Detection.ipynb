{
 "cells": [
  {
   "cell_type": "code",
   "execution_count": 1,
   "id": "7930de34",
   "metadata": {},
   "outputs": [],
   "source": [
    "import tensorflow as tf\n",
    "from tensorflow.keras import layers\n",
    "import os\n",
    "import cv2\n",
    "import numpy as np\n",
    "from sklearn.model_selection import train_test_split\n",
    "from sklearn.metrics import accuracy_score, precision_score, recall_score, f1_score\n",
    "import matplotlib.pyplot as plt"
   ]
  },
  {
   "cell_type": "code",
   "execution_count": 2,
   "id": "e77452ce",
   "metadata": {},
   "outputs": [],
   "source": [
    "import tensorflow as tf\n",
    "gpus = tf.config.experimental.list_physical_devices('GPU')\n",
    "if gpus:\n",
    "    try:\n",
    "        tf.config.experimental.set_virtual_device_configuration(\n",
    "            gpus[0],\n",
    "            [tf.config.experimental.VirtualDeviceConfiguration(memory_limit=2048)])  # Set the desired memory limit (in MB)\n",
    "    except RuntimeError as e:\n",
    "        print(e)"
   ]
  },
  {
   "cell_type": "code",
   "execution_count": 3,
   "id": "09a3799e",
   "metadata": {},
   "outputs": [
    {
     "name": "stdout",
     "output_type": "stream",
     "text": [
      "INFO:tensorflow:Mixed precision compatibility check (mixed_float16): OK\n",
      "Your GPU will likely run quickly with dtype policy mixed_float16 as it has compute capability of at least 7.0. Your GPU: NVIDIA GeForce GTX 1650 Ti, compute capability 7.5\n"
     ]
    }
   ],
   "source": [
    "import tensorflow as tf\n",
    "tf.keras.mixed_precision.set_global_policy('mixed_float16')\n"
   ]
  },
  {
   "cell_type": "code",
   "execution_count": 4,
   "id": "835c4f42",
   "metadata": {},
   "outputs": [],
   "source": [
    "# Define the SGAM layer\n",
    "def sgam_layer(inputs):\n",
    "    _, height, width, filters = inputs.shape.as_list()\n",
    "    \n",
    "    x = layers.Reshape((height * width, filters))(inputs)\n",
    "    x = layers.Dense(units=filters, activation='sigmoid')(x)\n",
    "    x = layers.Reshape((height, width, filters))(x)\n",
    "    \n",
    "    return x"
   ]
  },
  {
   "cell_type": "raw",
   "id": "5e1bb2bc",
   "metadata": {},
   "source": [
    "# Preprocess images\n",
    "def preprocess_images(images):\n",
    "    preprocessed_images = []\n",
    "    for image in images:\n",
    "        # Resize to 200x200\n",
    "        image = cv2.resize(image, (64, 64))\n",
    "        # Normalize to range [0, 1]\n",
    "        image = image / 255.0\n",
    "        preprocessed_images.append(image)\n",
    "    return np.array(preprocessed_images)"
   ]
  },
  {
   "cell_type": "code",
   "execution_count": 5,
   "id": "c309842b",
   "metadata": {},
   "outputs": [],
   "source": [
    "def preprocess_images(images):\n",
    "    # Resize images to 64x64\n",
    "    resized_images = []\n",
    "    for image in images:\n",
    "        resized_image = cv2.resize(image, (64, 64))\n",
    "        resized_images.append(resized_image)\n",
    "    # Normalize pixel values\n",
    "    normalized_images = np.array(resized_images) / 255.0\n",
    "    return normalized_images\n"
   ]
  },
  {
   "cell_type": "code",
   "execution_count": 6,
   "id": "a28c1e7b",
   "metadata": {},
   "outputs": [],
   "source": [
    "# Create the encoder model\n",
    "def create_encoder(input_shape):\n",
    "    inputs = tf.keras.Input(shape=input_shape)\n",
    "    \n",
    "    # First set of DSC layers\n",
    "    x1 = layers.SeparableConv2D(filters=64, kernel_size=(3, 3), padding='same', activation='relu')(inputs)\n",
    "    x2 = layers.SeparableConv2D(filters=64, kernel_size=(5, 5), padding='same', activation='relu')(inputs)\n",
    "    x3 = layers.SeparableConv2D(filters=64, kernel_size=(7, 7), padding='same', activation='relu')(inputs)\n",
    "    \n",
    "    # Concatenate and apply SGAM\n",
    "    x = layers.concatenate([x1, x2, x3])\n",
    "    x = sgam_layer(x)\n",
    "    \n",
    "    # Downsample\n",
    "    x = layers.MaxPooling2D(pool_size=(2, 2))(x)\n",
    "    \n",
    "    # Second set of DSC layers\n",
    "    x1 = layers.SeparableConv2D(filters=128, kernel_size=(3, 3), padding='same', activation='relu')(x)\n",
    "    x2 = layers.SeparableConv2D(filters=128, kernel_size=(5, 5), padding='same', activation='relu')(x)\n",
    "    x3 = layers.SeparableConv2D(filters=128, kernel_size=(7, 7), padding='same', activation='relu')(x)\n",
    "    \n",
    "    # Concatenate and apply SGAM\n",
    "    x = layers.concatenate([x1, x2, x3])\n",
    "    x = sgam_layer(x)\n",
    "    \n",
    "    # Downsample\n",
    "    x = layers.MaxPooling2D(pool_size=(2, 2))(x)\n",
    "    \n",
    "    # Third set of DSC layers\n",
    "    x1 = layers.SeparableConv2D(filters=256, kernel_size=(3, 3), padding='same', activation='relu')(x)\n",
    "    x2 = layers.SeparableConv2D(filters=256, kernel_size=(5, 5), padding='same', activation='relu')(x)\n",
    "    x3 = layers.SeparableConv2D(filters=256, kernel_size=(7, 7), padding='same', activation='relu')(x)\n",
    "    \n",
    "    # Concatenate and apply SGAM\n",
    "    x = layers.concatenate([x1, x2, x3])\n",
    "    x = sgam_layer(x)\n",
    "    \n",
    "    # Downsample\n",
    "    x = layers.MaxPooling2D(pool_size=(2, 2))(x)\n",
    "    \n",
    "    # Final DSC layer\n",
    "    x = layers.SeparableConv2D(filters=512, kernel_size=(3, 3), padding='same', activation='relu')(x)\n",
    "    \n",
    "    return tf.keras.Model(inputs=inputs, outputs=x)"
   ]
  },
  {
   "cell_type": "code",
   "execution_count": 7,
   "id": "82f82868",
   "metadata": {},
   "outputs": [],
   "source": [
    "# Create the decoder model\n",
    "def create_decoder(input_shape):\n",
    "    inputs = tf.keras.Input(shape=input_shape)\n",
    "    \n",
    "    # DSC layer and upsampling\n",
    "    x = layers.SeparableConv2D(filters=512, kernel_size=(3, 3), padding='same', activation='relu')(inputs)\n",
    "    x = layers.UpSampling2D(size=(2, 2))(x)\n",
    "\n",
    "    # SGAM layer\n",
    "    x = sgam_layer(x)\n",
    "\n",
    "    # Second set of DSC layers\n",
    "    x1 = layers.SeparableConv2D(filters=256, kernel_size=(3, 3), padding='same', activation='relu')(x)\n",
    "    x2 = layers.SeparableConv2D(filters=256, kernel_size=(5, 5), padding='same', activation='relu')(x)\n",
    "    x3 = layers.SeparableConv2D(filters=256, kernel_size=(7, 7), padding='same', activation='relu')(x)\n",
    "\n",
    "    # Concatenate and upsample\n",
    "    x = layers.concatenate([x1, x2, x3])\n",
    "    x = layers.UpSampling2D(size=(2, 2))(x)\n",
    "\n",
    "    # SGAM layer\n",
    "    x = sgam_layer(x)\n",
    "\n",
    "    # Third set of DSC layers\n",
    "    x1 = layers.SeparableConv2D(filters=128, kernel_size=(3, 3), padding='same', activation='relu')(x)\n",
    "    x2 = layers.SeparableConv2D(filters=128, kernel_size=(5, 5), padding='same', activation='relu')(x)\n",
    "    x3 = layers.SeparableConv2D(filters=128, kernel_size=(7, 7), padding='same', activation='relu')(x)\n",
    "\n",
    "    # Concatenate and upsample\n",
    "    x = layers.concatenate([x1, x2, x3])\n",
    "    x = layers.UpSampling2D(size=(2, 2))(x)\n",
    "\n",
    "    # SGAM layer\n",
    "    x = sgam_layer(x)\n",
    "\n",
    "    # Fourth set of DSC layers\n",
    "    x1 = layers.SeparableConv2D(filters=64, kernel_size=(3, 3), padding='same', activation='relu')(x)\n",
    "    x2 = layers.SeparableConv2D(filters=64, kernel_size=(5, 5), padding='same', activation='relu')(x)\n",
    "    x3 = layers.SeparableConv2D(filters=64, kernel_size=(7, 7), padding='same', activation='relu')(x)\n",
    "\n",
    "    # Concatenate and upsample\n",
    "    x = layers.concatenate([x1, x2, x3])\n",
    "    x = layers.UpSampling2D(size=(2, 2))(x)\n",
    "\n",
    "    # SGAM layer\n",
    "    x = sgam_layer(x)\n",
    "\n",
    "    # Final DSC layer\n",
    "    outputs = layers.Conv2D(filters=3, kernel_size=(3, 3), padding='same', activation='sigmoid')(x)\n",
    "\n",
    "    # Resize the output to the desired shape\n",
    "    outputs = tf.image.resize(outputs, (64, 64))\n",
    "\n",
    "    return tf.keras.Model(inputs=inputs, outputs=outputs)"
   ]
  },
  {
   "cell_type": "code",
   "execution_count": 8,
   "id": "caba71ef",
   "metadata": {},
   "outputs": [],
   "source": [
    "# Create the forgery detection model\n",
    "def create_forgery_model(input_shape):\n",
    "    encoder = create_encoder(input_shape)\n",
    "    decoder = create_decoder(encoder.output_shape[1:])\n",
    "\n",
    "    inputs = tf.keras.Input(shape=input_shape)\n",
    "    encoded = encoder(inputs)\n",
    "    decoded = decoder(encoded)\n",
    "\n",
    "    return tf.keras.Model(inputs=inputs, outputs=decoded)"
   ]
  },
  {
   "cell_type": "code",
   "execution_count": null,
   "id": "831fc8a5",
   "metadata": {},
   "outputs": [],
   "source": []
  },
  {
   "cell_type": "code",
   "execution_count": null,
   "id": "42a9edb0",
   "metadata": {},
   "outputs": [],
   "source": []
  },
  {
   "cell_type": "code",
   "execution_count": 9,
   "id": "5b8c4ae0",
   "metadata": {},
   "outputs": [],
   "source": [
    "import os\n",
    "import cv2\n",
    "import numpy as np\n",
    "from tensorflow import keras\n",
    "\n",
    "dataset_path = 'D:/VIT/SEM X/Image Forgery/FD3'\n",
    "train_path = os.path.join(dataset_path, 'Train')\n",
    "test_path = os.path.join(dataset_path, 'Test')\n",
    "\n",
    "def load_images_from_folder(folder_path, limit=None):\n",
    "    images = []\n",
    "    count = 0\n",
    "    for filename in os.listdir(folder_path):\n",
    "        if limit is not None and count >= limit:\n",
    "            break\n",
    "        image = cv2.imread(os.path.join(folder_path, filename))\n",
    "        if image is not None:\n",
    "            images.append(image)\n",
    "            count += 1\n",
    "    return images\n",
    "\n",
    "# Load training images\n",
    "train_original_path = os.path.join(train_path, 'img')\n",
    "train_forged_path = os.path.join(train_path, 'gt')\n",
    "X_train_original = load_images_from_folder(train_original_path, limit=10)\n",
    "X_train_forged = load_images_from_folder(train_forged_path, limit=10)\n",
    "X_train_original = preprocess_images(X_train_original)\n",
    "X_train_forged = preprocess_images(X_train_forged)\n",
    "X_train = np.concatenate((X_train_original, X_train_forged), axis=0)\n",
    "\n",
    "# Load testing images\n",
    "test_original_path = os.path.join(test_path, 'img')\n",
    "test_forged_path = os.path.join(test_path, 'gt')\n",
    "X_test_original = load_images_from_folder(test_original_path, limit=10)\n",
    "X_test_forged = load_images_from_folder(test_forged_path, limit=10)\n",
    "X_test_original = preprocess_images(X_test_original)\n",
    "X_test_forged = preprocess_images(X_test_forged)\n",
    "X_test = np.concatenate((X_test_original, X_test_forged), axis=0)\n",
    "\n",
    "# Create labels for training and testing images\n",
    "y_train_original = np.zeros(len(X_train_original))\n",
    "y_train_forged = np.ones(len(X_train_forged))\n",
    "y_train = np.concatenate((y_train_original, y_train_forged))\n",
    "\n",
    "y_test_original = np.zeros(len(X_test_original))\n",
    "y_test_forged = np.ones(len(X_test_forged))\n",
    "y_test = np.concatenate((y_test_original, y_test_forged))\n",
    "\n",
    "# Shuffle the training data\n",
    "shuffle_indices = np.random.permutation(len(X_train))\n",
    "X_train = X_train[shuffle_indices]\n",
    "y_train = y_train[shuffle_indices]"
   ]
  },
  {
   "cell_type": "code",
   "execution_count": 10,
   "id": "ff637bcd",
   "metadata": {
    "scrolled": true
   },
   "outputs": [
    {
     "data": {
      "image/png": "[encoded data removed]",
      "text/plain": [
       "<Figure size 1000x500 with 2 Axes>"
      ]
     },
     "metadata": {},
     "output_type": "display_data"
    },
    {
     "data": {
      "image/png": "[encoded data removed]",
      "text/plain": [
       "<Figure size 1000x500 with 2 Axes>"
      ]
     },
     "metadata": {},
     "output_type": "display_data"
    },
    {
     "data": {
      "image/png": "[encoded data removed]",
      "text/plain": [
       "<Figure size 1000x500 with 2 Axes>"
      ]
     },
     "metadata": {},
     "output_type": "display_data"
    },
    {
     "data": {
      "image/png": "[encoded data removed]",
      "text/plain": [
       "<Figure size 1000x500 with 2 Axes>"
      ]
     },
     "metadata": {},
     "output_type": "display_data"
    }
   ],
   "source": [
    "# Print some sample inputs\n",
    "num_samples = 5\n",
    "sample_indices = np.random.randint(len(X_train), size=num_samples)\n",
    "\n",
    "for i in sample_indices:\n",
    "    if i >= len(X_train_original):\n",
    "        continue  # Skip this iteration if the index is out of bounds\n",
    "    fig, axes = plt.subplots(1, 2, figsize=(10, 5))\n",
    "    axes[0].imshow(X_train_original[i])\n",
    "    axes[0].set_title('Original')\n",
    "    axes[0].axis('off')\n",
    "    \n",
    "    if i >= len(X_train_forged):\n",
    "        continue  # Skip this iteration if the index is out of bounds\n",
    "    axes[1].imshow(X_train_forged[i])\n",
    "    axes[1].set_title('Forged')\n",
    "    axes[1].axis('off')\n",
    "    \n",
    "    plt.tight_layout()\n",
    "    plt.show()\n"
   ]
  },
  {
   "cell_type": "code",
   "execution_count": 11,
   "id": "fd73f57c",
   "metadata": {
    "scrolled": false
   },
   "outputs": [
    {
     "name": "stdout",
     "output_type": "stream",
     "text": [
      "(64, 64, 3)\n",
      "(64, 64, 3)\n",
      "(64, 64, 3)\n",
      "(64, 64, 3)\n",
      "(64, 64, 3)\n",
      "(64, 64, 3)\n",
      "(64, 64, 3)\n",
      "(64, 64, 3)\n",
      "(64, 64, 3)\n",
      "(64, 64, 3)\n",
      "(64, 64, 3)\n",
      "(64, 64, 3)\n",
      "(64, 64, 3)\n",
      "(64, 64, 3)\n",
      "(64, 64, 3)\n",
      "(64, 64, 3)\n",
      "(64, 64, 3)\n",
      "(64, 64, 3)\n",
      "(64, 64, 3)\n",
      "(64, 64, 3)\n"
     ]
    }
   ],
   "source": [
    "for image in X_test:\n",
    "    print(image.shape)"
   ]
  },
  {
   "cell_type": "code",
   "execution_count": null,
   "id": "be9d1a7a",
   "metadata": {},
   "outputs": [],
   "source": []
  },
  {
   "cell_type": "code",
   "execution_count": null,
   "id": "8fe6a85e",
   "metadata": {},
   "outputs": [],
   "source": []
  },
  {
   "cell_type": "raw",
   "id": "598acea9",
   "metadata": {},
   "source": []
  },
  {
   "cell_type": "code",
   "execution_count": 12,
   "id": "c68ebfc6",
   "metadata": {},
   "outputs": [
    {
     "name": "stdout",
     "output_type": "stream",
     "text": [
      "Model: \"model_2\"\n",
      "_________________________________________________________________\n",
      "Layer (type)                 Output Shape              Param #   \n",
      "=================================================================\n",
      "input_3 (InputLayer)         [(None, 64, 64, 3)]       0         \n",
      "_________________________________________________________________\n",
      "model (Functional)           (None, 8, 8, 512)         1594745   \n",
      "_________________________________________________________________\n",
      "model_1 (Functional)         (None, 64, 64, 3)         2211907   \n",
      "=================================================================\n",
      "Total params: 3,806,652\n",
      "Trainable params: 3,806,652\n",
      "Non-trainable params: 0\n",
      "_________________________________________________________________\n"
     ]
    }
   ],
   "source": [
    "# Create the forgery detection model\n",
    "model = create_forgery_model(input_shape=(64, 64, 3))\n",
    "model.compile(optimizer='adam', loss='mse', metrics=['accuracy', 'mse'])\n",
    "model.summary()"
   ]
  },
  {
   "cell_type": "code",
   "execution_count": null,
   "id": "4768bed4",
   "metadata": {},
   "outputs": [],
   "source": []
  },
  {
   "cell_type": "code",
   "execution_count": 13,
   "id": "23bfa056",
   "metadata": {
    "scrolled": true
   },
   "outputs": [
    {
     "name": "stdout",
     "output_type": "stream",
     "text": [
      "Epoch 1/10\n"
     ]
    },
    {
     "ename": "InvalidArgumentError",
     "evalue": " required broadcastable shapes\n\t [[node mean_squared_error/SquaredDifference (defined at \\AppData\\Local\\Temp\\ipykernel_10492\\1830123420.py:10) ]] [Op:__inference_train_function_8075]\n\nFunction call stack:\ntrain_function\n",
     "output_type": "error",
     "traceback": [
      "\u001b[1;31m---------------------------------------------------------------------------\u001b[0m",
      "\u001b[1;31mInvalidArgumentError\u001b[0m                      Traceback (most recent call last)",
      "Cell \u001b[1;32mIn[13], line 10\u001b[0m\n\u001b[0;32m      7\u001b[0m train_generator \u001b[38;5;241m=\u001b[39m datagen\u001b[38;5;241m.\u001b[39mflow(X_train, y_train, batch_size\u001b[38;5;241m=\u001b[39m\u001b[38;5;241m4\u001b[39m)\n\u001b[0;32m      9\u001b[0m \u001b[38;5;66;03m# Train the model using the generator\u001b[39;00m\n\u001b[1;32m---> 10\u001b[0m \u001b[43mmodel\u001b[49m\u001b[38;5;241;43m.\u001b[39;49m\u001b[43mfit\u001b[49m\u001b[43m(\u001b[49m\u001b[43mtrain_generator\u001b[49m\u001b[43m,\u001b[49m\u001b[43m \u001b[49m\u001b[43mepochs\u001b[49m\u001b[38;5;241;43m=\u001b[39;49m\u001b[38;5;241;43m10\u001b[39;49m\u001b[43m,\u001b[49m\u001b[43m \u001b[49m\u001b[43mverbose\u001b[49m\u001b[38;5;241;43m=\u001b[39;49m\u001b[38;5;241;43m1\u001b[39;49m\u001b[43m)\u001b[49m\n",
      "File \u001b[1;32m~\\anaconda3\\envs\\tensorflow_gpu\\lib\\site-packages\\keras\\engine\\training.py:1184\u001b[0m, in \u001b[0;36mModel.fit\u001b[1;34m(self, x, y, batch_size, epochs, verbose, callbacks, validation_split, validation_data, shuffle, class_weight, sample_weight, initial_epoch, steps_per_epoch, validation_steps, validation_batch_size, validation_freq, max_queue_size, workers, use_multiprocessing)\u001b[0m\n\u001b[0;32m   1177\u001b[0m \u001b[38;5;28;01mwith\u001b[39;00m tf\u001b[38;5;241m.\u001b[39mprofiler\u001b[38;5;241m.\u001b[39mexperimental\u001b[38;5;241m.\u001b[39mTrace(\n\u001b[0;32m   1178\u001b[0m     \u001b[38;5;124m'\u001b[39m\u001b[38;5;124mtrain\u001b[39m\u001b[38;5;124m'\u001b[39m,\n\u001b[0;32m   1179\u001b[0m     epoch_num\u001b[38;5;241m=\u001b[39mepoch,\n\u001b[0;32m   1180\u001b[0m     step_num\u001b[38;5;241m=\u001b[39mstep,\n\u001b[0;32m   1181\u001b[0m     batch_size\u001b[38;5;241m=\u001b[39mbatch_size,\n\u001b[0;32m   1182\u001b[0m     _r\u001b[38;5;241m=\u001b[39m\u001b[38;5;241m1\u001b[39m):\n\u001b[0;32m   1183\u001b[0m   callbacks\u001b[38;5;241m.\u001b[39mon_train_batch_begin(step)\n\u001b[1;32m-> 1184\u001b[0m   tmp_logs \u001b[38;5;241m=\u001b[39m \u001b[38;5;28;43mself\u001b[39;49m\u001b[38;5;241;43m.\u001b[39;49m\u001b[43mtrain_function\u001b[49m\u001b[43m(\u001b[49m\u001b[43miterator\u001b[49m\u001b[43m)\u001b[49m\n\u001b[0;32m   1185\u001b[0m   \u001b[38;5;28;01mif\u001b[39;00m data_handler\u001b[38;5;241m.\u001b[39mshould_sync:\n\u001b[0;32m   1186\u001b[0m     context\u001b[38;5;241m.\u001b[39masync_wait()\n",
      "File \u001b[1;32m~\\anaconda3\\envs\\tensorflow_gpu\\lib\\site-packages\\tensorflow\\python\\eager\\def_function.py:885\u001b[0m, in \u001b[0;36mFunction.__call__\u001b[1;34m(self, *args, **kwds)\u001b[0m\n\u001b[0;32m    882\u001b[0m compiler \u001b[38;5;241m=\u001b[39m \u001b[38;5;124m\"\u001b[39m\u001b[38;5;124mxla\u001b[39m\u001b[38;5;124m\"\u001b[39m \u001b[38;5;28;01mif\u001b[39;00m \u001b[38;5;28mself\u001b[39m\u001b[38;5;241m.\u001b[39m_jit_compile \u001b[38;5;28;01melse\u001b[39;00m \u001b[38;5;124m\"\u001b[39m\u001b[38;5;124mnonXla\u001b[39m\u001b[38;5;124m\"\u001b[39m\n\u001b[0;32m    884\u001b[0m \u001b[38;5;28;01mwith\u001b[39;00m OptionalXlaContext(\u001b[38;5;28mself\u001b[39m\u001b[38;5;241m.\u001b[39m_jit_compile):\n\u001b[1;32m--> 885\u001b[0m   result \u001b[38;5;241m=\u001b[39m \u001b[38;5;28mself\u001b[39m\u001b[38;5;241m.\u001b[39m_call(\u001b[38;5;241m*\u001b[39margs, \u001b[38;5;241m*\u001b[39m\u001b[38;5;241m*\u001b[39mkwds)\n\u001b[0;32m    887\u001b[0m new_tracing_count \u001b[38;5;241m=\u001b[39m \u001b[38;5;28mself\u001b[39m\u001b[38;5;241m.\u001b[39mexperimental_get_tracing_count()\n\u001b[0;32m    888\u001b[0m without_tracing \u001b[38;5;241m=\u001b[39m (tracing_count \u001b[38;5;241m==\u001b[39m new_tracing_count)\n",
      "File \u001b[1;32m~\\anaconda3\\envs\\tensorflow_gpu\\lib\\site-packages\\tensorflow\\python\\eager\\def_function.py:950\u001b[0m, in \u001b[0;36mFunction._call\u001b[1;34m(self, *args, **kwds)\u001b[0m\n\u001b[0;32m    946\u001b[0m     \u001b[38;5;28;01mpass\u001b[39;00m  \u001b[38;5;66;03m# Fall through to cond-based initialization.\u001b[39;00m\n\u001b[0;32m    947\u001b[0m   \u001b[38;5;28;01melse\u001b[39;00m:\n\u001b[0;32m    948\u001b[0m     \u001b[38;5;66;03m# Lifting succeeded, so variables are initialized and we can run the\u001b[39;00m\n\u001b[0;32m    949\u001b[0m     \u001b[38;5;66;03m# stateless function.\u001b[39;00m\n\u001b[1;32m--> 950\u001b[0m     \u001b[38;5;28;01mreturn\u001b[39;00m \u001b[38;5;28mself\u001b[39m\u001b[38;5;241m.\u001b[39m_stateless_fn(\u001b[38;5;241m*\u001b[39margs, \u001b[38;5;241m*\u001b[39m\u001b[38;5;241m*\u001b[39mkwds)\n\u001b[0;32m    951\u001b[0m \u001b[38;5;28;01melse\u001b[39;00m:\n\u001b[0;32m    952\u001b[0m   _, _, _, filtered_flat_args \u001b[38;5;241m=\u001b[39m \\\n\u001b[0;32m    953\u001b[0m       \u001b[38;5;28mself\u001b[39m\u001b[38;5;241m.\u001b[39m_stateful_fn\u001b[38;5;241m.\u001b[39m_function_spec\u001b[38;5;241m.\u001b[39mcanonicalize_function_inputs(  \u001b[38;5;66;03m# pylint: disable=protected-access\u001b[39;00m\n\u001b[0;32m    954\u001b[0m           \u001b[38;5;241m*\u001b[39margs, \u001b[38;5;241m*\u001b[39m\u001b[38;5;241m*\u001b[39mkwds)\n",
      "File \u001b[1;32m~\\anaconda3\\envs\\tensorflow_gpu\\lib\\site-packages\\tensorflow\\python\\eager\\function.py:3039\u001b[0m, in \u001b[0;36mFunction.__call__\u001b[1;34m(self, *args, **kwargs)\u001b[0m\n\u001b[0;32m   3036\u001b[0m \u001b[38;5;28;01mwith\u001b[39;00m \u001b[38;5;28mself\u001b[39m\u001b[38;5;241m.\u001b[39m_lock:\n\u001b[0;32m   3037\u001b[0m   (graph_function,\n\u001b[0;32m   3038\u001b[0m    filtered_flat_args) \u001b[38;5;241m=\u001b[39m \u001b[38;5;28mself\u001b[39m\u001b[38;5;241m.\u001b[39m_maybe_define_function(args, kwargs)\n\u001b[1;32m-> 3039\u001b[0m \u001b[38;5;28;01mreturn\u001b[39;00m \u001b[43mgraph_function\u001b[49m\u001b[38;5;241;43m.\u001b[39;49m\u001b[43m_call_flat\u001b[49m\u001b[43m(\u001b[49m\n\u001b[0;32m   3040\u001b[0m \u001b[43m    \u001b[49m\u001b[43mfiltered_flat_args\u001b[49m\u001b[43m,\u001b[49m\u001b[43m \u001b[49m\u001b[43mcaptured_inputs\u001b[49m\u001b[38;5;241;43m=\u001b[39;49m\u001b[43mgraph_function\u001b[49m\u001b[38;5;241;43m.\u001b[39;49m\u001b[43mcaptured_inputs\u001b[49m\u001b[43m)\u001b[49m\n",
      "File \u001b[1;32m~\\anaconda3\\envs\\tensorflow_gpu\\lib\\site-packages\\tensorflow\\python\\eager\\function.py:1963\u001b[0m, in \u001b[0;36mConcreteFunction._call_flat\u001b[1;34m(self, args, captured_inputs, cancellation_manager)\u001b[0m\n\u001b[0;32m   1959\u001b[0m possible_gradient_type \u001b[38;5;241m=\u001b[39m gradients_util\u001b[38;5;241m.\u001b[39mPossibleTapeGradientTypes(args)\n\u001b[0;32m   1960\u001b[0m \u001b[38;5;28;01mif\u001b[39;00m (possible_gradient_type \u001b[38;5;241m==\u001b[39m gradients_util\u001b[38;5;241m.\u001b[39mPOSSIBLE_GRADIENT_TYPES_NONE\n\u001b[0;32m   1961\u001b[0m     \u001b[38;5;129;01mand\u001b[39;00m executing_eagerly):\n\u001b[0;32m   1962\u001b[0m   \u001b[38;5;66;03m# No tape is watching; skip to running the function.\u001b[39;00m\n\u001b[1;32m-> 1963\u001b[0m   \u001b[38;5;28;01mreturn\u001b[39;00m \u001b[38;5;28mself\u001b[39m\u001b[38;5;241m.\u001b[39m_build_call_outputs(\u001b[38;5;28;43mself\u001b[39;49m\u001b[38;5;241;43m.\u001b[39;49m\u001b[43m_inference_function\u001b[49m\u001b[38;5;241;43m.\u001b[39;49m\u001b[43mcall\u001b[49m\u001b[43m(\u001b[49m\n\u001b[0;32m   1964\u001b[0m \u001b[43m      \u001b[49m\u001b[43mctx\u001b[49m\u001b[43m,\u001b[49m\u001b[43m \u001b[49m\u001b[43margs\u001b[49m\u001b[43m,\u001b[49m\u001b[43m \u001b[49m\u001b[43mcancellation_manager\u001b[49m\u001b[38;5;241;43m=\u001b[39;49m\u001b[43mcancellation_manager\u001b[49m\u001b[43m)\u001b[49m)\n\u001b[0;32m   1965\u001b[0m forward_backward \u001b[38;5;241m=\u001b[39m \u001b[38;5;28mself\u001b[39m\u001b[38;5;241m.\u001b[39m_select_forward_and_backward_functions(\n\u001b[0;32m   1966\u001b[0m     args,\n\u001b[0;32m   1967\u001b[0m     possible_gradient_type,\n\u001b[0;32m   1968\u001b[0m     executing_eagerly)\n\u001b[0;32m   1969\u001b[0m forward_function, args_with_tangents \u001b[38;5;241m=\u001b[39m forward_backward\u001b[38;5;241m.\u001b[39mforward()\n",
      "File \u001b[1;32m~\\anaconda3\\envs\\tensorflow_gpu\\lib\\site-packages\\tensorflow\\python\\eager\\function.py:591\u001b[0m, in \u001b[0;36m_EagerDefinedFunction.call\u001b[1;34m(self, ctx, args, cancellation_manager)\u001b[0m\n\u001b[0;32m    589\u001b[0m \u001b[38;5;28;01mwith\u001b[39;00m _InterpolateFunctionError(\u001b[38;5;28mself\u001b[39m):\n\u001b[0;32m    590\u001b[0m   \u001b[38;5;28;01mif\u001b[39;00m cancellation_manager \u001b[38;5;129;01mis\u001b[39;00m \u001b[38;5;28;01mNone\u001b[39;00m:\n\u001b[1;32m--> 591\u001b[0m     outputs \u001b[38;5;241m=\u001b[39m \u001b[43mexecute\u001b[49m\u001b[38;5;241;43m.\u001b[39;49m\u001b[43mexecute\u001b[49m\u001b[43m(\u001b[49m\n\u001b[0;32m    592\u001b[0m \u001b[43m        \u001b[49m\u001b[38;5;28;43mstr\u001b[39;49m\u001b[43m(\u001b[49m\u001b[38;5;28;43mself\u001b[39;49m\u001b[38;5;241;43m.\u001b[39;49m\u001b[43msignature\u001b[49m\u001b[38;5;241;43m.\u001b[39;49m\u001b[43mname\u001b[49m\u001b[43m)\u001b[49m\u001b[43m,\u001b[49m\n\u001b[0;32m    593\u001b[0m \u001b[43m        \u001b[49m\u001b[43mnum_outputs\u001b[49m\u001b[38;5;241;43m=\u001b[39;49m\u001b[38;5;28;43mself\u001b[39;49m\u001b[38;5;241;43m.\u001b[39;49m\u001b[43m_num_outputs\u001b[49m\u001b[43m,\u001b[49m\n\u001b[0;32m    594\u001b[0m \u001b[43m        \u001b[49m\u001b[43minputs\u001b[49m\u001b[38;5;241;43m=\u001b[39;49m\u001b[43margs\u001b[49m\u001b[43m,\u001b[49m\n\u001b[0;32m    595\u001b[0m \u001b[43m        \u001b[49m\u001b[43mattrs\u001b[49m\u001b[38;5;241;43m=\u001b[39;49m\u001b[43mattrs\u001b[49m\u001b[43m,\u001b[49m\n\u001b[0;32m    596\u001b[0m \u001b[43m        \u001b[49m\u001b[43mctx\u001b[49m\u001b[38;5;241;43m=\u001b[39;49m\u001b[43mctx\u001b[49m\u001b[43m)\u001b[49m\n\u001b[0;32m    597\u001b[0m   \u001b[38;5;28;01melse\u001b[39;00m:\n\u001b[0;32m    598\u001b[0m     outputs \u001b[38;5;241m=\u001b[39m execute\u001b[38;5;241m.\u001b[39mexecute_with_cancellation(\n\u001b[0;32m    599\u001b[0m         \u001b[38;5;28mstr\u001b[39m(\u001b[38;5;28mself\u001b[39m\u001b[38;5;241m.\u001b[39msignature\u001b[38;5;241m.\u001b[39mname),\n\u001b[0;32m    600\u001b[0m         num_outputs\u001b[38;5;241m=\u001b[39m\u001b[38;5;28mself\u001b[39m\u001b[38;5;241m.\u001b[39m_num_outputs,\n\u001b[1;32m   (...)\u001b[0m\n\u001b[0;32m    603\u001b[0m         ctx\u001b[38;5;241m=\u001b[39mctx,\n\u001b[0;32m    604\u001b[0m         cancellation_manager\u001b[38;5;241m=\u001b[39mcancellation_manager)\n",
      "File \u001b[1;32m~\\anaconda3\\envs\\tensorflow_gpu\\lib\\site-packages\\tensorflow\\python\\eager\\execute.py:59\u001b[0m, in \u001b[0;36mquick_execute\u001b[1;34m(op_name, num_outputs, inputs, attrs, ctx, name)\u001b[0m\n\u001b[0;32m     57\u001b[0m \u001b[38;5;28;01mtry\u001b[39;00m:\n\u001b[0;32m     58\u001b[0m   ctx\u001b[38;5;241m.\u001b[39mensure_initialized()\n\u001b[1;32m---> 59\u001b[0m   tensors \u001b[38;5;241m=\u001b[39m \u001b[43mpywrap_tfe\u001b[49m\u001b[38;5;241;43m.\u001b[39;49m\u001b[43mTFE_Py_Execute\u001b[49m\u001b[43m(\u001b[49m\u001b[43mctx\u001b[49m\u001b[38;5;241;43m.\u001b[39;49m\u001b[43m_handle\u001b[49m\u001b[43m,\u001b[49m\u001b[43m \u001b[49m\u001b[43mdevice_name\u001b[49m\u001b[43m,\u001b[49m\u001b[43m \u001b[49m\u001b[43mop_name\u001b[49m\u001b[43m,\u001b[49m\n\u001b[0;32m     60\u001b[0m \u001b[43m                                      \u001b[49m\u001b[43minputs\u001b[49m\u001b[43m,\u001b[49m\u001b[43m \u001b[49m\u001b[43mattrs\u001b[49m\u001b[43m,\u001b[49m\u001b[43m \u001b[49m\u001b[43mnum_outputs\u001b[49m\u001b[43m)\u001b[49m\n\u001b[0;32m     61\u001b[0m \u001b[38;5;28;01mexcept\u001b[39;00m core\u001b[38;5;241m.\u001b[39m_NotOkStatusException \u001b[38;5;28;01mas\u001b[39;00m e:\n\u001b[0;32m     62\u001b[0m   \u001b[38;5;28;01mif\u001b[39;00m name \u001b[38;5;129;01mis\u001b[39;00m \u001b[38;5;129;01mnot\u001b[39;00m \u001b[38;5;28;01mNone\u001b[39;00m:\n",
      "\u001b[1;31mInvalidArgumentError\u001b[0m:  required broadcastable shapes\n\t [[node mean_squared_error/SquaredDifference (defined at \\AppData\\Local\\Temp\\ipykernel_10492\\1830123420.py:10) ]] [Op:__inference_train_function_8075]\n\nFunction call stack:\ntrain_function\n"
     ]
    }
   ],
   "source": [
    "from keras.preprocessing.image import ImageDataGenerator\n",
    "\n",
    "# Create image data generator\n",
    "datagen = keras.preprocessing.image.ImageDataGenerator(rescale=1./255)\n",
    "\n",
    "# Create training data generator\n",
    "train_generator = datagen.flow(X_train, y_train, batch_size=4)\n",
    "\n",
    "# Train the model using the generator\n",
    "model.fit(train_generator, epochs=10, verbose=1)"
   ]
  },
  {
   "cell_type": "code",
   "execution_count": null,
   "id": "c23d83e8",
   "metadata": {},
   "outputs": [],
   "source": [
    "from keras.callbacks import ModelCheckpoint\n",
    "\n",
    "# Define the checkpoint filepath\n",
    "checkpoint_filepath = 'model_checkpoint.h5'\n",
    "\n",
    "# Create model checkpoint callback\n",
    "checkpoint = ModelCheckpoint(checkpoint_filepath, save_weights_only=True, save_best_only=True)\n",
    "\n",
    "# Train the model with the checkpoint callback\n",
    "model.fit(X_train, y_train, batch_size=4, epochs=10, callbacks=[checkpoint])\n"
   ]
  },
  {
   "cell_type": "code",
   "execution_count": null,
   "id": "baa59f1b",
   "metadata": {},
   "outputs": [],
   "source": [
    "# Evaluate the model on the testing set\n",
    "evaluation = model.evaluate(X_test_preprocessed, y_test_preprocessed)\n",
    "print(\"Evaluation Loss:\", evaluation[0])\n",
    "print(\"Evaluation Accuracy:\", evaluation[1])\n",
    "print(\"Evaluation MSE:\", evaluation[2])"
   ]
  },
  {
   "cell_type": "code",
   "execution_count": null,
   "id": "661c3fb8",
   "metadata": {},
   "outputs": [],
   "source": [
    "# Perform predictions on the testing set\n",
    "predictions = model.predict(X_test_preprocessed)\n",
    "\n",
    "# Threshold the predictions to obtain binary masks\n",
    "threshold = 0.5\n",
    "binary_predictions = (predictions > threshold).astype(np.uint8)\n",
    "\n",
    "# Flatten the masks and predictions for computing accuracy, precision, recall, and F1 score\n",
    "flatten_masks = y_test_preprocessed.flatten()\n",
    "flatten_predictions = binary_predictions.flatten()"
   ]
  },
  {
   "cell_type": "code",
   "execution_count": null,
   "id": "8d1dc983",
   "metadata": {},
   "outputs": [],
   "source": [
    "# Calculate accuracy\n",
    "accuracy = accuracy_score(flatten_masks, flatten_predictions)\n",
    "print(\"Accuracy:\", accuracy)\n",
    "\n",
    "# Calculate precision\n",
    "precision = precision_score(flatten_masks, flatten_predictions)\n",
    "print(\"Precision:\", precision)\n",
    "\n",
    "# Calculate recall\n",
    "recall = recall_score(flatten_masks, flatten_predictions)\n",
    "print(\"Recall:\", recall)\n",
    "\n",
    "# Calculate F1 score\n",
    "f1 = f1_score(flatten_masks, flatten_predictions)\n",
    "print(\"F1 Score:\", f1)\n",
    "\n",
    "# Compute Intersection over Union (IOU)\n",
    "iou = tf.keras.metrics.MeanIoU(num_classes=2)\n",
    "iou.update_state(flatten_masks, flatten_predictions)\n",
    "iou_result = iou.result().numpy()\n",
    "print(\"IOU:\", iou_result)\n",
    "\n",
    "# Compute Dice coefficient\n",
    "dice_coefficient = (2 * iou_result) / (iou_result + 1)\n",
    "print(\"Dice Coefficient:\", dice_coefficient)"
   ]
  },
  {
   "cell_type": "code",
   "execution_count": null,
   "id": "1cef1a37",
   "metadata": {},
   "outputs": [],
   "source": [
    "# Plot training history\n",
    "plt.figure(figsize=(8, 6))\n",
    "plt.plot(history.history['loss'])\n",
    "plt.title('Training Loss')\n",
    "plt.xlabel('Epochs')\n",
    "plt.ylabel('Loss')\n",
    "plt.grid(True)\n",
    "plt.show()\n",
    "\n",
    "plt.figure(figsize=(8, 6))\n",
    "plt.plot(history.history['accuracy'])\n",
    "plt.title('Training Accuracy')\n",
    "plt.xlabel('Epochs')\n",
    "plt.ylabel('Accuracy')\n",
    "plt.grid(True)\n",
    "plt.show()"
   ]
  },
  {
   "cell_type": "code",
   "execution_count": null,
   "id": "8498f50e",
   "metadata": {},
   "outputs": [],
   "source": [
    "# Plot sample images with ground truth masks and predictions\n",
    "num_samples = 5\n",
    "\n",
    "for i in range(num_samples):\n",
    "    plt.figure(figsize=(10, 4))\n",
    "    \n",
    "    plt.subplot(1, 3, 1)\n",
    "    plt.imshow(X_test_preprocessed[i])\n",
    "    plt.title('Original Image')\n",
    "    plt.axis('off')\n",
    "    \n",
    "    plt.subplot(1, 3, 2)\n",
    "    plt.imshow(y_test_preprocessed[i], cmap='gray')\n",
    "    plt.title('Ground Truth Mask')\n",
    "    plt.axis('off')\n",
    "    \n",
    "    plt.subplot(1, 3, 3)\n",
    "    plt.imshow(binary_predictions[i], cmap='gray')\n",
    "    plt.title('Predicted Mask')\n",
    "    plt.axis('off')\n",
    "    \n",
    "    plt.tight_layout()\n",
    "    plt.show()"
   ]
  },
  {
   "cell_type": "code",
   "execution_count": null,
   "id": "f5041eb7",
   "metadata": {},
   "outputs": [],
   "source": []
  }
 ],
 "metadata": {
  "kernelspec": {
   "display_name": "Python 3",
   "language": "python",
   "name": "python3"
  },
  "language_info": {
   "codemirror_mode": {
    "name": "ipython",
    "version": 3
   },
   "file_extension": ".py",
   "mimetype": "text/x-python",
   "name": "python",
   "nbconvert_exporter": "python",
   "pygments_lexer": "ipython3",
   "version": "3.9.16"
  }
 },
 "nbformat": 4,
 "nbformat_minor": 5
}
